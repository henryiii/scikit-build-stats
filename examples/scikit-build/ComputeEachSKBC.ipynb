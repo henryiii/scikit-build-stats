{
 "cells": [
  {
   "cell_type": "code",
   "execution_count": null,
   "id": "b34d9a60-65a0-4132-a996-21abe0d23002",
   "metadata": {},
   "outputs": [],
   "source": [
    "import json\n",
    "import pandas as pd\n",
    "from github import Github\n",
    "import os\n",
    "import datetime"
   ]
  },
  {
   "cell_type": "code",
   "execution_count": null,
   "id": "d3416132-20e5-4c0d-a077-9b5afce795e9",
   "metadata": {},
   "outputs": [],
   "source": [
    "g = Github(os.environ[\"GITHUB_API_TOKEN\"])"
   ]
  },
  {
   "cell_type": "code",
   "execution_count": null,
   "id": "0e5db4ce-2fc0-4530-b93c-3101528d50ba",
   "metadata": {},
   "outputs": [],
   "source": [
    "with open(\"20230921-skbc.json\") as f:\n",
    "    data = json.load(f)"
   ]
  },
  {
   "cell_type": "code",
   "execution_count": null,
   "id": "70122e99-287f-489d-900b-0eaf4d99bbdd",
   "metadata": {},
   "outputs": [],
   "source": [
    "data[0]"
   ]
  },
  {
   "cell_type": "code",
   "execution_count": null,
   "id": "22aaceba-9d34-4e70-baea-a36073288304",
   "metadata": {},
   "outputs": [],
   "source": [
    "df = pd.DataFrame.from_dict(\n",
    "    {\n",
    "        \"path\": [d[\"path\"] for d in data],\n",
    "        \"repo\": [d[\"repository\"][\"nameWithOwner\"] for d in data],\n",
    "    }\n",
    ")\n",
    "df = df.set_index([\"repo\", \"path\"])"
   ]
  },
  {
   "cell_type": "code",
   "execution_count": null,
   "id": "e4b8cf10-d10c-4b51-9529-05ebe9ca7741",
   "metadata": {},
   "outputs": [],
   "source": [
    "uniq_repos = {\n",
    "    v\n",
    "    for v in df.index.get_level_values(\"repo\")\n",
    "    if not v.lower().startswith((\"apc524-\", \"scikit-build\"))\n",
    "}"
   ]
  },
  {
   "cell_type": "code",
   "execution_count": null,
   "id": "6d0fe137-4e74-4bd7-9bb2-e9a735fb6339",
   "metadata": {},
   "outputs": [],
   "source": [
    "stars = {repo: g.get_repo(repo).stargazers_count for repo in uniq_repos}"
   ]
  },
  {
   "cell_type": "code",
   "execution_count": null,
   "id": "9edf8399-63cf-45ac-a8d4-a5c8423e1d15",
   "metadata": {},
   "outputs": [],
   "source": [
    "sorted_stars = {k: v for k, v in sorted(stars.items(), key=lambda x: -x[1])}"
   ]
  },
  {
   "cell_type": "code",
   "execution_count": null,
   "id": "66b943d2-8d17-42e4-8a01-243760a36c15",
   "metadata": {},
   "outputs": [],
   "source": [
    "sorted_stars"
   ]
  },
  {
   "cell_type": "code",
   "execution_count": null,
   "id": "2719a9a6-4e26-400d-9bba-5ca921395116",
   "metadata": {},
   "outputs": [],
   "source": [
    "df[\"stars\"] = df.index.get_level_values(\"repo\").map(lambda x: sorted_stars.get(x, None))"
   ]
  },
  {
   "cell_type": "code",
   "execution_count": null,
   "id": "45fae15c-c396-441d-9cdc-ef334658c6da",
   "metadata": {},
   "outputs": [],
   "source": [
    "df = df.dropna()"
   ]
  },
  {
   "cell_type": "code",
   "execution_count": null,
   "id": "22959216-591f-4ec9-99c0-c4b71e8af720",
   "metadata": {},
   "outputs": [],
   "source": [
    "df.loc[:, \"stars\"] = df[\"stars\"].astype(int)"
   ]
  },
  {
   "cell_type": "code",
   "execution_count": null,
   "id": "710d0354-f9cd-46ee-b109-6e9fa551e088",
   "metadata": {},
   "outputs": [],
   "source": [
    "df = df.sort_values(\"stars\", ascending=False)"
   ]
  },
  {
   "cell_type": "code",
   "execution_count": null,
   "id": "535a0100-d211-45bf-a52a-0f318c57a913",
   "metadata": {},
   "outputs": [],
   "source": [
    "df[[\"stars\"]].to_csv(\"20230921-skbc-wstars.csv\")"
   ]
  }
 ],
 "metadata": {
  "kernelspec": {
   "display_name": "skbuildstats",
   "language": "python",
   "name": "skbuildstats"
  },
  "language_info": {
   "codemirror_mode": {
    "name": "ipython",
    "version": 3
   },
   "file_extension": ".py",
   "mimetype": "text/x-python",
   "name": "python",
   "nbconvert_exporter": "python",
   "pygments_lexer": "ipython3",
   "version": "3.11.5"
  }
 },
 "nbformat": 4,
 "nbformat_minor": 5
}
