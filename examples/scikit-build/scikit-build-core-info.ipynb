{
 "cells": [
  {
   "cell_type": "code",
   "execution_count": null,
   "id": "90e8eba9-7335-439a-b416-00b56ee4034c",
   "metadata": {
    "tags": []
   },
   "outputs": [],
   "source": [
    "import pandas as pd\n",
    "from github import Github\n",
    "import os\n",
    "import tomllib\n",
    "import rich\n",
    "import json"
   ]
  },
  {
   "cell_type": "code",
   "execution_count": null,
   "id": "eb1a5318-b6ec-47ba-aadb-a0d86724892f",
   "metadata": {},
   "outputs": [],
   "source": [
    "df = pd.read_json(\"scikit-build-core.json\", orient=\"records\")"
   ]
  },
  {
   "cell_type": "code",
   "execution_count": null,
   "id": "0aa2bb71-489f-42d7-aac2-e8589653f2ca",
   "metadata": {
    "tags": []
   },
   "outputs": [],
   "source": [
    "df = df[~df.Repository.str.startswith((\"scikit-build\", \"scikit-hep/cookie\"))]"
   ]
  },
  {
   "cell_type": "code",
   "execution_count": null,
   "id": "545250c1-8ef7-4857-b179-83f5250f5378",
   "metadata": {
    "tags": []
   },
   "outputs": [],
   "source": [
    "df"
   ]
  },
  {
   "cell_type": "code",
   "execution_count": null,
   "id": "3a4df3b8-e671-4bd7-87ba-8fd89e8e2caf",
   "metadata": {
    "tags": []
   },
   "outputs": [],
   "source": [
    "g = Github(os.environ[\"GITHUB_API_TOKEN\"])"
   ]
  },
  {
   "cell_type": "code",
   "execution_count": null,
   "id": "eec535fa-e95f-4410-9a42-20471d99c513",
   "metadata": {
    "tags": []
   },
   "outputs": [],
   "source": [
    "contents = {\n",
    "    r: {f: g.get_repo(r).get_contents(f).decoded_content.decode(\"utf-8\")}\n",
    "    for _, (r, f) in df[[\"Repository\", \"File path\"]].iterrows()\n",
    "}"
   ]
  },
  {
   "cell_type": "code",
   "execution_count": null,
   "id": "6c533697-1e40-4b90-ae52-b56ee741d96d",
   "metadata": {
    "tags": []
   },
   "outputs": [],
   "source": [
    "with open(\"scikit-build-core-contents.json\", \"w\", encoding=\"utf-8\") as f:\n",
    "    json.dump(contents, f)"
   ]
  },
  {
   "cell_type": "code",
   "execution_count": null,
   "id": "0971af8b-bfe9-48a1-8b06-951edde9fffe",
   "metadata": {
    "tags": []
   },
   "outputs": [],
   "source": [
    "for loc, c in contents.items():\n",
    "    for fn, c in c.items():\n",
    "        print(f\"{loc}:{fn}\")\n",
    "        rich.print(tomllib.loads(c).get(\"tool\", {}).get(\"scikit-build\"))"
   ]
  },
  {
   "cell_type": "code",
   "execution_count": null,
   "id": "9221cbc8-9601-4c26-b023-4442d6581fe6",
   "metadata": {},
   "outputs": [],
   "source": []
  }
 ],
 "metadata": {
  "kernelspec": {
   "display_name": "skbuildstats",
   "language": "python",
   "name": "skbuildstats"
  },
  "language_info": {
   "codemirror_mode": {
    "name": "ipython",
    "version": 3
   },
   "file_extension": ".py",
   "mimetype": "text/x-python",
   "name": "python",
   "nbconvert_exporter": "python",
   "pygments_lexer": "ipython3",
   "version": "3.11.3"
  }
 },
 "nbformat": 4,
 "nbformat_minor": 5
}
