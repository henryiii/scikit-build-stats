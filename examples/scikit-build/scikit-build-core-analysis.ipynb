{
 "cells": [
  {
   "cell_type": "code",
   "execution_count": null,
   "id": "6be644aa-e1a2-4de2-a2ab-1205e184c2d2",
   "metadata": {
    "tags": []
   },
   "outputs": [],
   "source": [
    "import pandas as pd\n",
    "from github import Github\n",
    "import os\n",
    "import tomllib\n",
    "import rich\n",
    "import json"
   ]
  },
  {
   "cell_type": "code",
   "execution_count": null,
   "id": "5076a59f-ba18-4aec-9f2f-0227e78cb386",
   "metadata": {
    "tags": []
   },
   "outputs": [],
   "source": [
    "with open(\"scikit-build-core-contents.json\", encoding=\"utf-8\") as f:\n",
    "    contents = json.load(f)"
   ]
  },
  {
   "cell_type": "code",
   "execution_count": null,
   "id": "e531af58-0246-4a59-ab80-4ca0acfbc812",
   "metadata": {
    "jupyter": {
     "outputs_hidden": true
    },
    "tags": []
   },
   "outputs": [],
   "source": [
    "for loc, c in contents.items():\n",
    "    for fn, c in c.items():\n",
    "        print(f\"{loc}:{fn}\")\n",
    "        rich.print(tomllib.loads(c).get(\"tool\", {}).get(\"scikit-build\"))"
   ]
  },
  {
   "cell_type": "code",
   "execution_count": null,
   "id": "25f962e1-5fc1-49dd-8160-04ce9aab1b24",
   "metadata": {
    "tags": []
   },
   "outputs": [],
   "source": [
    "for loc, c in contents.items():\n",
    "    for fn, c in c.items():\n",
    "        build_system = tomllib.loads(c).get(\"build-system\", {})\n",
    "        print(f\"{loc}:{fn}\")\n",
    "        rich.print(build_system.get(\"requires\"))"
   ]
  },
  {
   "cell_type": "code",
   "execution_count": null,
   "id": "b42ef1f6-4270-4fb7-a56b-eb175ad760be",
   "metadata": {},
   "outputs": [],
   "source": []
  }
 ],
 "metadata": {
  "kernelspec": {
   "display_name": "skbuildstats",
   "language": "python",
   "name": "skbuildstats"
  },
  "language_info": {
   "codemirror_mode": {
    "name": "ipython",
    "version": 3
   },
   "file_extension": ".py",
   "mimetype": "text/x-python",
   "name": "python",
   "nbconvert_exporter": "python",
   "pygments_lexer": "ipython3",
   "version": "3.11.3"
  }
 },
 "nbformat": 4,
 "nbformat_minor": 5
}
