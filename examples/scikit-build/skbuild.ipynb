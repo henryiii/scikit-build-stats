{
 "cells": [
  {
   "cell_type": "code",
   "execution_count": null,
   "id": "968a39fb-05ab-4253-8817-25d9cf445287",
   "metadata": {
    "tags": []
   },
   "outputs": [],
   "source": [
    "import pandas as pd\n",
    "from github import Github\n",
    "import os"
   ]
  },
  {
   "cell_type": "code",
   "execution_count": null,
   "id": "f2e7b62b-bf66-44c2-89e3-43bf6c3403ae",
   "metadata": {
    "tags": []
   },
   "outputs": [],
   "source": [
    "g = Github(os.environ[\"GITHUB_API_TOKEN\"])"
   ]
  },
  {
   "cell_type": "code",
   "execution_count": null,
   "id": "06e71e5f-795d-40ac-ba86-4ba48e94d6a3",
   "metadata": {
    "tags": []
   },
   "outputs": [],
   "source": [
    "def read_file(filename: str, g: Github) -> pd.DataFrame:\n",
    "    tbl = pd.read_csv(filename, usecols=[1,3])\n",
    "\n",
    "    ghtbl = tbl[tbl[\"Repository\"].str.startswith(\"github.com/\")].copy()\n",
    "    ghtbl[\"Repository\"] = ghtbl[\"Repository\"].str.removeprefix(\"github.com/\")\n",
    "\n",
    "    stars = {repo: g.get_repo(repo).stargazers_count for repo in set(ghtbl[\"Repository\"])}\n",
    "    ghtbl[\"stars\"] = ghtbl[\"Repository\"].map(stars)\n",
    "\n",
    "    return ghtbl.sort_values(\"stars\", ascending=False)"
   ]
  },
  {
   "cell_type": "code",
   "execution_count": null,
   "id": "0371ece8-9755-4138-b449-087ee4879fd4",
   "metadata": {
    "tags": []
   },
   "outputs": [],
   "source": [
    "def print_tbl(ghtbl: pd.DataFrame) -> None:\n",
    "    print(\"| Repo | ⭐️ |\\n|---|---|\")\n",
    "    for _, line in ghtbl.drop_duplicates(\"Repository\").iterrows():\n",
    "        repo = line[\"Repository\"]\n",
    "        stars = line[\"stars\"]\n",
    "        if repo.startswith(\"scikit-build\"):\n",
    "            continue\n",
    "        print(f\"| [{repo}](https://github.com/{repo}) | {stars} |\")"
   ]
  },
  {
   "cell_type": "code",
   "execution_count": null,
   "id": "92162309-49ad-404c-ad75-2696ef51fc7a",
   "metadata": {
    "tags": []
   },
   "outputs": [],
   "source": [
    "scikit_build = read_file(\n",
    "    \"sourcegraph-search-export-context-global-skbuild-path-setup-py-count-2000.csv\",\n",
    "    g\n",
    ")"
   ]
  },
  {
   "cell_type": "code",
   "execution_count": null,
   "id": "5a51da96-a956-4589-bdb2-51f5db3a61c5",
   "metadata": {
    "tags": []
   },
   "outputs": [],
   "source": [
    "print_tbl(scikit_build)"
   ]
  },
  {
   "cell_type": "code",
   "execution_count": null,
   "id": "358d460a-6a40-4bb8-8251-7dfb75cb608e",
   "metadata": {
    "tags": []
   },
   "outputs": [],
   "source": [
    "scikit_build_core = read_file(\n",
    "    \"sourcegraph-search-export-context-global-scikit-build-core-path-pyproject-toml.csv\",\n",
    "    g\n",
    ")"
   ]
  },
  {
   "cell_type": "code",
   "execution_count": null,
   "id": "0c0088c8-dbfb-49de-84a0-480a9d8db482",
   "metadata": {
    "tags": []
   },
   "outputs": [],
   "source": [
    "print_tbl(scikit_build_core)"
   ]
  },
  {
   "cell_type": "code",
   "execution_count": null,
   "id": "b1b5a6ca-4792-4798-a8b4-545b6cf54e02",
   "metadata": {
    "tags": []
   },
   "outputs": [],
   "source": [
    "scikit_build_core.drop_duplicates(\"Repository\").to_json(\"orient=\"records\", indent=2))"
   ]
  },
  {
   "cell_type": "code",
   "execution_count": null,
   "id": "1a826f0b-5e9f-483c-a371-73c717eeb432",
   "metadata": {
    "tags": []
   },
   "outputs": [],
   "source": [
    "scikit_build_core.to_json(\"scikit-build-core.json\", orient=\"records\", indent=2)"
   ]
  },
  {
   "cell_type": "code",
   "execution_count": null,
   "id": "5ece1722-ff08-4815-8474-5abc28cff6f0",
   "metadata": {
    "tags": []
   },
   "outputs": [],
   "source": [
    "scikit_build.to_json(\"scikit-build.json\", orient=\"records\", indent=2)"
   ]
  }
 ],
 "metadata": {
  "kernelspec": {
   "display_name": "skbuildstats",
   "language": "python",
   "name": "skbuildstats"
  },
  "language_info": {
   "codemirror_mode": {
    "name": "ipython",
    "version": 3
   },
   "file_extension": ".py",
   "mimetype": "text/x-python",
   "name": "python",
   "nbconvert_exporter": "python",
   "pygments_lexer": "ipython3",
   "version": "3.11.3"
  }
 },
 "nbformat": 4,
 "nbformat_minor": 5
}
