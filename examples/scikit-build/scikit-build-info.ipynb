{
 "cells": [
  {
   "cell_type": "code",
   "execution_count": null,
   "id": "1593b6b8-f3ef-457b-8062-8c922476aedc",
   "metadata": {
    "tags": []
   },
   "outputs": [],
   "source": [
    "import pandas as pd\n",
    "from github import Github\n",
    "import os\n",
    "import tomllib\n",
    "import contextlib\n",
    "import rich\n",
    "from collections.abc import Generator\n",
    "import json"
   ]
  },
  {
   "cell_type": "code",
   "execution_count": null,
   "id": "8aa657c6-057a-4de5-bcf2-7dd3c50dea25",
   "metadata": {
    "tags": []
   },
   "outputs": [],
   "source": [
    "df = pd.read_json(\"scikit-build.json\", orient=\"records\")"
   ]
  },
  {
   "cell_type": "code",
   "execution_count": null,
   "id": "bf2bfa02-6430-4834-a862-582d61f5a651",
   "metadata": {
    "tags": []
   },
   "outputs": [],
   "source": [
    "df = df[~df.Repository.str.startswith((\"scikit-build\"))]"
   ]
  },
  {
   "cell_type": "code",
   "execution_count": null,
   "id": "b7a6510d-6839-482e-90fa-a1c8a8b989c7",
   "metadata": {
    "tags": []
   },
   "outputs": [],
   "source": [
    "df"
   ]
  },
  {
   "cell_type": "code",
   "execution_count": null,
   "id": "9be0e4b8-a022-4ba0-9dcc-6c4e9ea26ef8",
   "metadata": {
    "tags": []
   },
   "outputs": [],
   "source": [
    "g = Github(os.environ[\"GITHUB_API_TOKEN\"])"
   ]
  },
  {
   "cell_type": "code",
   "execution_count": null,
   "id": "2994c88f-b739-4520-85ee-5178a9ea5672",
   "metadata": {
    "tags": []
   },
   "outputs": [],
   "source": [
    "def to_dict(repo: str, setup_py: str) -> Generator[tuple[str, str], None, None]:\n",
    "    yield setup_py, g.get_repo(repo).get_contents(setup_py).decoded_content.decode(\n",
    "        \"utf-8\"\n",
    "    )\n",
    "    base = setup_py.rsplit(\"/\", maxsplit=1)[0] if \"/\" in setup_py else \"\"\n",
    "    with contextlib.suppress(Exception):\n",
    "        pyproject_toml = f\"{base}/pyproject.toml\".lstrip(\"/\")\n",
    "        yield pyproject_toml, g.get_repo(repo).get_contents(\n",
    "            pyproject_toml\n",
    "        ).decoded_content.decode(\"utf-8\")\n",
    "    with contextlib.suppress(Exception):\n",
    "        setup_cfg = f\"{base}/setup.cfg\".lstrip(\"/\")\n",
    "        yield setup_cfg, g.get_repo(repo).get_contents(\n",
    "            setup_cfg\n",
    "        ).decoded_content.decode(\"utf-8\")"
   ]
  },
  {
   "cell_type": "code",
   "execution_count": null,
   "id": "19951062-3cbb-49db-8f34-8fb08825c4e3",
   "metadata": {
    "tags": []
   },
   "outputs": [],
   "source": [
    "contents_tuples = (\n",
    "    (repo, dict(to_dict(repo, fn)))\n",
    "    for _, (repo, fn) in df[[\"Repository\", \"File path\"]].iterrows()\n",
    ")"
   ]
  },
  {
   "cell_type": "code",
   "execution_count": null,
   "id": "a318e492-a898-40a7-afb4-67f9aac0e4f8",
   "metadata": {
    "tags": []
   },
   "outputs": [],
   "source": [
    "contents = {}\n",
    "for repo, content in contents_tuples:\n",
    "    contents[repo] = contents.setdefault(repo, {}) | content"
   ]
  },
  {
   "cell_type": "code",
   "execution_count": null,
   "id": "4e0df3e5-1052-4f29-b5f3-9959aff2ada0",
   "metadata": {
    "tags": []
   },
   "outputs": [],
   "source": [
    "with open(\"scikit-build-contents.json\", \"w\", encoding=\"utf-8\") as f:\n",
    "    json.dump(contents, f)"
   ]
  },
  {
   "cell_type": "code",
   "execution_count": null,
   "id": "d7d7238e-4f89-4213-b4ac-0adaab554c27",
   "metadata": {},
   "outputs": [],
   "source": []
  }
 ],
 "metadata": {
  "kernelspec": {
   "display_name": "skbuildstats",
   "language": "python",
   "name": "skbuildstats"
  },
  "language_info": {
   "codemirror_mode": {
    "name": "ipython",
    "version": 3
   },
   "file_extension": ".py",
   "mimetype": "text/x-python",
   "name": "python",
   "nbconvert_exporter": "python",
   "pygments_lexer": "ipython3",
   "version": "3.11.3"
  }
 },
 "nbformat": 4,
 "nbformat_minor": 5
}
