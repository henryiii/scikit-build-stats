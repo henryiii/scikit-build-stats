{
 "cells": [
  {
   "cell_type": "code",
   "execution_count": null,
   "id": "3166fcd3-b29f-43b0-a518-083c1ca1368b",
   "metadata": {
    "tags": []
   },
   "outputs": [],
   "source": [
    "import json\n",
    "import collections\n",
    "import ast\n",
    "import dataclasses"
   ]
  },
  {
   "cell_type": "code",
   "execution_count": null,
   "id": "c2117553-6c56-48ac-8526-6b2f2b2af56d",
   "metadata": {
    "tags": []
   },
   "outputs": [],
   "source": [
    "with open(\"scikit-build-contents.json\", encoding=\"utf-8\") as f:\n",
    "    content = json.load(f)"
   ]
  },
  {
   "cell_type": "code",
   "execution_count": null,
   "id": "2dbee6d0-7eb4-4e69-bfb8-86415ae83cef",
   "metadata": {
    "tags": []
   },
   "outputs": [],
   "source": [
    "collections.Counter(len(c) for c in content.values())"
   ]
  },
  {
   "cell_type": "code",
   "execution_count": null,
   "id": "44b5b6bd-a276-43e1-bfe5-a2125ce6f95a",
   "metadata": {
    "tags": []
   },
   "outputs": [],
   "source": [
    "setup_pys = [\n",
    "    (r, fn)\n",
    "    for r, ks in content.items()\n",
    "    for fn in ks\n",
    "    if fn.split(\"/\")[-1] == \"setup.py\" and \"{{\" not in fn\n",
    "]"
   ]
  },
  {
   "cell_type": "code",
   "execution_count": null,
   "id": "2c2f7b03-b497-4cef-8001-bfa405281b82",
   "metadata": {
    "tags": []
   },
   "outputs": [],
   "source": [
    "len(setup_pys)"
   ]
  },
  {
   "cell_type": "code",
   "execution_count": null,
   "id": "248f844b-3ff8-446a-a907-294f73044a56",
   "metadata": {
    "tags": []
   },
   "outputs": [],
   "source": [
    "@dataclasses.dataclass\n",
    "class Vistor(ast.NodeVisitor):\n",
    "    result: dict[str | None, str] = dataclasses.field(default_factory=dict)\n",
    "\n",
    "    def visit_Call(self, node: ast.Call) -> None:\n",
    "        match node.func:\n",
    "            case ast.Name(id=\"setup\") | ast.Attribute(attr=\"setup\"):\n",
    "                for k in node.keywords:\n",
    "                    self.result[k.arg or \"**\"] = ast.unparse(k.value)"
   ]
  },
  {
   "cell_type": "code",
   "execution_count": null,
   "id": "d20acbeb-e21e-4ed6-bd52-b26bf30df881",
   "metadata": {
    "tags": []
   },
   "outputs": [],
   "source": [
    "def get_info(repo: str, path: str) -> dict[str | None, str]:\n",
    "    tree = ast.parse(content[repo][path], filename=\"setup.py\")\n",
    "    visitor = Vistor()\n",
    "    visitor.visit(tree)\n",
    "    return visitor.result"
   ]
  },
  {
   "cell_type": "code",
   "execution_count": null,
   "id": "f8fdf451-793d-4edc-a4f9-20e1c051b0dd",
   "metadata": {
    "tags": []
   },
   "outputs": [],
   "source": [
    "keyword_counter = collections.Counter()\n",
    "for repo, key in setup_pys[:10]:\n",
    "    result = get_info(repo, key)\n",
    "    keywords = [\n",
    "        f\"    {key} = {val if len(val) < 80 else '...'},\"\n",
    "        if key != \"**\"\n",
    "        else f\"    {key}{val},\"\n",
    "        for key, val in result.items()\n",
    "    ]\n",
    "    print(f\"{repo}: {key}\")\n",
    "    print(\"  setup(\", *keywords, \")\", sep=\"\\n\")\n",
    "    keyword_counter.update(result.keys())"
   ]
  },
  {
   "cell_type": "code",
   "execution_count": null,
   "id": "41536a11-931e-44f7-be74-b697cae567fc",
   "metadata": {
    "tags": []
   },
   "outputs": [],
   "source": [
    "for k, c in keyword_counter.items():\n",
    "    if k.startswith(\"cmake_\"):\n",
    "        print(f\"{k}: {c}\")"
   ]
  },
  {
   "cell_type": "code",
   "execution_count": null,
   "id": "9124bd7f-f45b-4a90-bce6-151cb7faa0f5",
   "metadata": {
    "tags": []
   },
   "outputs": [],
   "source": [
    "for k, c in keyword_counter.items():\n",
    "    if not k.startswith(\"cmake_\"):\n",
    "        print(f\"{k}: {c}\")"
   ]
  },
  {
   "cell_type": "code",
   "execution_count": null,
   "id": "a89b47bb-fe48-42bb-8068-88b63165d7e3",
   "metadata": {
    "tags": []
   },
   "outputs": [],
   "source": [
    "for repo, key in setup_pys:\n",
    "    result = get_info(repo, key)\n",
    "    if \"cmake_languages\" in result:\n",
    "        print(repo, key, \"cmake_languages =\", result[\"cmake_languages\"])"
   ]
  },
  {
   "cell_type": "code",
   "execution_count": null,
   "id": "46304df0-b4d4-4483-8bd4-84f257ff9950",
   "metadata": {},
   "outputs": [],
   "source": []
  }
 ],
 "metadata": {
  "kernelspec": {
   "display_name": "skbuildstats",
   "language": "python",
   "name": "skbuildstats"
  },
  "language_info": {
   "codemirror_mode": {
    "name": "ipython",
    "version": 3
   },
   "file_extension": ".py",
   "mimetype": "text/x-python",
   "name": "python",
   "nbconvert_exporter": "python",
   "pygments_lexer": "ipython3",
   "version": "3.11.3"
  }
 },
 "nbformat": 4,
 "nbformat_minor": 5
}
