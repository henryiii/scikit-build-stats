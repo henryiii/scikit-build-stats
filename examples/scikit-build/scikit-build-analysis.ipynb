{
 "cells": [
  {
   "cell_type": "code",
   "execution_count": null,
   "id": "3166fcd3-b29f-43b0-a518-083c1ca1368b",
   "metadata": {
    "tags": []
   },
   "outputs": [],
   "source": [
    "import json\n",
    "import collections\n",
    "import ast\n",
    "import dataclasses\n",
    "import tomllib\n",
    "import rich\n",
    "import pandas as pd\n",
    "import packaging.specifiers\n",
    "import functools"
   ]
  },
  {
   "cell_type": "code",
   "execution_count": null,
   "id": "c2117553-6c56-48ac-8526-6b2f2b2af56d",
   "metadata": {
    "tags": []
   },
   "outputs": [],
   "source": [
    "with open(\"scikit-build-contents.json\", encoding=\"utf-8\") as f:\n",
    "    content = json.load(f)"
   ]
  },
  {
   "cell_type": "code",
   "execution_count": null,
   "id": "2dbee6d0-7eb4-4e69-bfb8-86415ae83cef",
   "metadata": {
    "tags": []
   },
   "outputs": [],
   "source": [
    "collections.Counter(len(c) for c in content.values())"
   ]
  },
  {
   "cell_type": "code",
   "execution_count": null,
   "id": "44b5b6bd-a276-43e1-bfe5-a2125ce6f95a",
   "metadata": {
    "tags": []
   },
   "outputs": [],
   "source": [
    "setup_pys = [\n",
    "    (r, fn)\n",
    "    for r, ks in content.items()\n",
    "    for fn in ks\n",
    "    if fn.split(\"/\")[-1] == \"setup.py\" and \"{{\" not in fn\n",
    "]"
   ]
  },
  {
   "cell_type": "code",
   "execution_count": null,
   "id": "2c2f7b03-b497-4cef-8001-bfa405281b82",
   "metadata": {
    "tags": []
   },
   "outputs": [],
   "source": [
    "len(setup_pys)"
   ]
  },
  {
   "cell_type": "code",
   "execution_count": null,
   "id": "248f844b-3ff8-446a-a907-294f73044a56",
   "metadata": {
    "tags": []
   },
   "outputs": [],
   "source": [
    "@dataclasses.dataclass\n",
    "class Vistor(ast.NodeVisitor):\n",
    "    result: dict[str | None, str] = dataclasses.field(default_factory=dict)\n",
    "\n",
    "    def visit_Call(self, node: ast.Call) -> None:\n",
    "        match node.func:\n",
    "            case ast.Name(id=\"setup\") | ast.Attribute(attr=\"setup\"):\n",
    "                for k in node.keywords:\n",
    "                    self.result[k.arg or \"**\"] = ast.unparse(k.value)"
   ]
  },
  {
   "cell_type": "code",
   "execution_count": null,
   "id": "d20acbeb-e21e-4ed6-bd52-b26bf30df881",
   "metadata": {
    "tags": []
   },
   "outputs": [],
   "source": [
    "def get_info(repo: str, path: str) -> dict[str | None, str]:\n",
    "    tree = ast.parse(content[repo][path], filename=\"setup.py\")\n",
    "    visitor = Vistor()\n",
    "    visitor.visit(tree)\n",
    "    return visitor.result"
   ]
  },
  {
   "cell_type": "code",
   "execution_count": null,
   "id": "f8fdf451-793d-4edc-a4f9-20e1c051b0dd",
   "metadata": {
    "tags": []
   },
   "outputs": [],
   "source": [
    "keyword_counter = collections.Counter()\n",
    "for i, (repo, key) in enumerate(setup_pys):\n",
    "    result = get_info(repo, key)\n",
    "    keywords = [\n",
    "        f\"    {key} = {val if len(val) < 80 else '...'},\"\n",
    "        if key != \"**\"\n",
    "        else f\"    {key}{val},\"\n",
    "        for key, val in result.items()\n",
    "    ]\n",
    "    if i < 10:\n",
    "        print(f\"{repo}: {key}\")\n",
    "        print(\"  setup(\", *keywords, \")\", sep=\"\\n\")\n",
    "    keyword_counter.update(result.keys())"
   ]
  },
  {
   "cell_type": "code",
   "execution_count": null,
   "id": "41536a11-931e-44f7-be74-b697cae567fc",
   "metadata": {
    "tags": []
   },
   "outputs": [],
   "source": [
    "for k, c in keyword_counter.most_common():\n",
    "    if k.startswith(\"cmake_\"):\n",
    "        print(f\"{k}: {c}\")"
   ]
  },
  {
   "cell_type": "code",
   "execution_count": null,
   "id": "9124bd7f-f45b-4a90-bce6-151cb7faa0f5",
   "metadata": {
    "tags": []
   },
   "outputs": [],
   "source": [
    "for k, c in keyword_counter.most_common():\n",
    "    if not k.startswith(\"cmake_\"):\n",
    "        print(f\"{k}: {c}\")"
   ]
  },
  {
   "cell_type": "code",
   "execution_count": null,
   "id": "a89b47bb-fe48-42bb-8068-88b63165d7e3",
   "metadata": {
    "tags": []
   },
   "outputs": [],
   "source": [
    "def print_kw(keyword: str) -> None:\n",
    "    print(\"| Location | entry |\")\n",
    "    print(\"|----------|-------|\")\n",
    "    for repo, key in setup_pys:\n",
    "        repo_key = f\"{repo}:{key if len(key) < 20 else '...'}\"\n",
    "        repo_url = f\"https://github.com/{repo}/blob/HEAD/{key}\"\n",
    "        result = get_info(repo, key)\n",
    "        if keyword in result:\n",
    "            print(f\"| [{repo_key}]({repo_url}) | `{result[keyword]}` |\")"
   ]
  },
  {
   "cell_type": "code",
   "execution_count": null,
   "id": "eed86764-e6bb-485b-b689-b0838c5d1233",
   "metadata": {},
   "outputs": [],
   "source": [
    "for k, c in keyword_counter.most_common():\n",
    "    if k.startswith(\"cmake_\") and c < 100:\n",
    "        print(f\"{k}: {c}\\n\")\n",
    "        print_kw(k)\n",
    "        print()"
   ]
  },
  {
   "cell_type": "code",
   "execution_count": null,
   "id": "48664836-0c76-4e1d-b588-7e83cee1938b",
   "metadata": {},
   "outputs": [],
   "source": [
    "print_kw(\"cmake_install_dir\")"
   ]
  },
  {
   "cell_type": "code",
   "execution_count": null,
   "id": "46304df0-b4d4-4483-8bd4-84f257ff9950",
   "metadata": {
    "tags": []
   },
   "outputs": [],
   "source": [
    "pyproject_tomls = [\n",
    "    (r, fn)\n",
    "    for r, ks in content.items()\n",
    "    for fn in ks\n",
    "    if fn.split(\"/\")[-1] == \"pyproject.toml\" and \"{{\" not in fn\n",
    "]"
   ]
  },
  {
   "cell_type": "code",
   "execution_count": null,
   "id": "c55f9cf7-9071-477b-849d-a757acd0e6c3",
   "metadata": {
    "tags": []
   },
   "outputs": [],
   "source": [
    "for repo, fn in pyproject_tomls[:5]:\n",
    "    c = content[repo][fn]\n",
    "    build_system = tomllib.loads(c).get(\"build-system\", {})\n",
    "    print(f\"{repo}:{fn}\")\n",
    "    rich.print(build_system.get(\"requires\"))"
   ]
  },
  {
   "cell_type": "code",
   "execution_count": null,
   "id": "01f03809-fef5-4c8d-96f7-2c1ffca80660",
   "metadata": {
    "tags": []
   },
   "outputs": [],
   "source": [
    "index = pd.MultiIndex.from_tuples(pyproject_tomls, names=[\"repo\", \"fn\"])\n",
    "pypro = pd.DataFrame({\"requires_skbuild\": pd.Series(dtype=\"str\")}, index=index)"
   ]
  },
  {
   "cell_type": "code",
   "execution_count": null,
   "id": "b6598f84-2892-41f9-b60d-e805377ea8df",
   "metadata": {
    "tags": []
   },
   "outputs": [],
   "source": [
    "for repo, fn in pyproject_tomls:\n",
    "    c = content[repo][fn]\n",
    "    build_system = tomllib.loads(c).get(\"build-system\", {})\n",
    "    items = [\n",
    "        x.replace(\" \", \"\") for x in build_system.get(\"requires\", []) if \"scikit\" in x\n",
    "    ]\n",
    "    if len(items) > 1:\n",
    "        print(items)\n",
    "    if items:\n",
    "        pypro.loc[repo, fn] = items[0]"
   ]
  },
  {
   "cell_type": "code",
   "execution_count": null,
   "id": "7a29ceb0-6472-4681-bab5-68b2047c5270",
   "metadata": {
    "tags": []
   },
   "outputs": [],
   "source": [
    "def contains(value: str, spec: str) -> bool:\n",
    "    if \"@\" in spec:\n",
    "        return False\n",
    "    return packaging.specifiers.SpecifierSet(\n",
    "        spec.lstrip(\"scikit-build-core\") or \">0\"\n",
    "    ).contains(value)"
   ]
  },
  {
   "cell_type": "code",
   "execution_count": null,
   "id": "29e372f3-a010-4322-8520-b03aed2df59c",
   "metadata": {
    "tags": []
   },
   "outputs": [],
   "source": [
    "pypro[pypro.isna()]"
   ]
  },
  {
   "cell_type": "code",
   "execution_count": null,
   "id": "4a47d9cb-32b6-44a4-afe1-7f08a176395f",
   "metadata": {
    "tags": []
   },
   "outputs": [],
   "source": [
    "pypro = pypro.dropna()"
   ]
  },
  {
   "cell_type": "code",
   "execution_count": null,
   "id": "4b2909da-a96d-4d1e-86a4-d704e33aa4f3",
   "metadata": {
    "tags": []
   },
   "outputs": [],
   "source": [
    "for k, v in collections.Counter(pypro.requires_skbuild).most_common():\n",
    "    c = \"[red]\"\n",
    "    if \"@\" in k:\n",
    "        c = \"[blue]\"\n",
    "    elif packaging.specifiers.SpecifierSet(k.lstrip(\"scikt-buldore\") or \">0\").contains(\n",
    "        \"0.17.5\"\n",
    "    ):\n",
    "        c = \"[green]\"\n",
    "    rich.print(f\"{c}{v:3} {k}\")"
   ]
  },
  {
   "cell_type": "code",
   "execution_count": null,
   "id": "b66f7cdf-e369-4e42-87ae-e99943e0a387",
   "metadata": {
    "tags": []
   },
   "outputs": [],
   "source": [
    "pypro[~pypro.requires_skbuild.map(functools.partial(contains, \"0.17.5\"))]"
   ]
  },
  {
   "cell_type": "code",
   "execution_count": null,
   "id": "7dbd9b80-8604-4665-b88c-eb238eca102b",
   "metadata": {},
   "outputs": [],
   "source": []
  }
 ],
 "metadata": {
  "kernelspec": {
   "display_name": "skbuildstats",
   "language": "python",
   "name": "skbuildstats"
  },
  "language_info": {
   "codemirror_mode": {
    "name": "ipython",
    "version": 3
   },
   "file_extension": ".py",
   "mimetype": "text/x-python",
   "name": "python",
   "nbconvert_exporter": "python",
   "pygments_lexer": "ipython3",
   "version": "3.11.3"
  }
 },
 "nbformat": 4,
 "nbformat_minor": 5
}
